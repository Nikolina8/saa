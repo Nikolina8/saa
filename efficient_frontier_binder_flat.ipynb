{
 "cells": [
  {
   "cell_type": "code",
   "execution_count": null,
   "id": "1e09f8cf",
   "metadata": {},
   "outputs": [],
   "source": [
    "\n",
    "# Efficient Frontier (Binder Ready, Flat Format)\n",
    "import pandas as pd\n",
    "import numpy as np\n",
    "from datetime import datetime, date\n",
    "import copy\n",
    "from pypfopt.efficient_frontier import EfficientFrontier\n",
    "from pypfopt import objective_functions\n",
    "import io\n",
    "import ipywidgets as widgets\n",
    "from IPython.display import display\n"
   ]
  },
  {
   "cell_type": "code",
   "execution_count": null,
   "id": "8a50916b",
   "metadata": {},
   "outputs": [],
   "source": [
    "\n",
    "# Upload Excel file\n",
    "uploader = widgets.FileUpload(accept='.xlsx', multiple=False)\n",
    "display(uploader)\n"
   ]
  },
  {
   "cell_type": "code",
   "execution_count": null,
   "id": "1b69f73a",
   "metadata": {},
   "outputs": [],
   "source": [
    "\n",
    "# Load DataFrame\n",
    "if uploader.value:\n",
    "    file_info = list(uploader.value.values())[0]\n",
    "    content = io.BytesIO(file_info['content'])\n",
    "    df = pd.read_excel(content, sheet_name=\"PyData\", engine='openpyxl')\n",
    "    \n",
    "    df = df.rename(columns=df.iloc[0]).drop(0)\n",
    "    df['Dates'] = pd.to_datetime(df['Dates'])\n",
    "    df = df.set_index(\"Dates\")\n",
    "    df = df.astype(float)\n",
    "    df = df[df.index > datetime(2017, 1, 1)]\n",
    "    print(\"Data loaded.\")\n",
    "else:\n",
    "    print(\"Please upload a valid Excel file.\")\n"
   ]
  },
  {
   "cell_type": "code",
   "execution_count": null,
   "id": "8a6c582f",
   "metadata": {},
   "outputs": [],
   "source": [
    "\n",
    "# Select assets\n",
    "asset_selector = widgets.SelectMultiple(options=df.columns.tolist(), description='Assets:', rows=10)\n",
    "display(asset_selector)\n"
   ]
  },
  {
   "cell_type": "code",
   "execution_count": null,
   "id": "4654ebac",
   "metadata": {},
   "outputs": [],
   "source": [
    "\n",
    "# Expected returns input\n",
    "mu_inputs = {}\n",
    "boxes = []\n",
    "for asset in asset_selector.value:\n",
    "    box = widgets.FloatText(value=0.05, description=asset, step=0.001)\n",
    "    mu_inputs[asset] = box\n",
    "    boxes.append(box)\n",
    "display(widgets.VBox(boxes))\n"
   ]
  },
  {
   "cell_type": "code",
   "execution_count": null,
   "id": "50cf0bc3",
   "metadata": {},
   "outputs": [],
   "source": [
    "\n",
    "# Utility functions\n",
    "def log_returns(df):\n",
    "    return np.log(df / df.shift(1)).dropna()\n",
    "\n",
    "def ewma_covariance_matrix(X, alpha):\n",
    "    T, D = X.shape\n",
    "    cov = np.zeros((D, D))\n",
    "    for tt in range(T):\n",
    "        x_t = X[tt, :]\n",
    "        if tt == 0:\n",
    "            cov = x_t[:, np.newaxis] @ x_t[np.newaxis, :]\n",
    "        else:\n",
    "            cov = alpha * cov + (1 - alpha) * x_t[:, np.newaxis] @ x_t[np.newaxis, :]\n",
    "    return cov\n",
    "\n",
    "def get_single_target_weights(target_return, ef):\n",
    "    ef_i = copy.deepcopy(ef)\n",
    "    ef_i.efficient_return(target_return)\n",
    "    return ef_i.weights\n",
    "\n",
    "def get_single_target_metrics(target_return, ef):\n",
    "    ef_i = copy.deepcopy(ef)\n",
    "    ef_i.efficient_return(target_return)\n",
    "    return ef_i.portfolio_performance()\n"
   ]
  },
  {
   "cell_type": "code",
   "execution_count": null,
   "id": "7ca2a9d9",
   "metadata": {},
   "outputs": [],
   "source": [
    "\n",
    "# Run optimizer\n",
    "df_sel = df[list(asset_selector.value)]\n",
    "logret = log_returns(df_sel)\n",
    "cov = ewma_covariance_matrix(logret.values, alpha=0.99)\n",
    "cov_df = pd.DataFrame(cov * 50, index=df_sel.columns, columns=df_sel.columns)\n",
    "\n",
    "mu = pd.Series({asset: mu_inputs[asset].value for asset in asset_selector.value})\n",
    "ef = EfficientFrontier(mu, cov_df, weight_bounds=(0, 1))\n",
    "ef.add_objective(objective_functions.L2_reg, gamma=0.01)\n",
    "\n",
    "min_ret, max_ret = ef._max_quadratic_utility_bounds()\n",
    "return_range = np.linspace(min_ret, max_ret, 25)\n",
    "\n",
    "weights = [get_single_target_weights(r, ef) for r in return_range]\n",
    "metrics = [get_single_target_metrics(r, ef) for r in return_range]\n",
    "\n",
    "weights_df = pd.DataFrame(weights, columns=mu.index)\n",
    "weights_df[\"Target Return\"] = return_range\n",
    "metrics_df = pd.DataFrame(metrics, columns=[\"Return\", \"Volatility\", \"Sharpe\"])\n",
    "\n",
    "weights_df.head()\n"
   ]
  },
  {
   "cell_type": "code",
   "execution_count": null,
   "id": "dfd457d8",
   "metadata": {},
   "outputs": [],
   "source": [
    "\n",
    "# Export results\n",
    "today = date.today().strftime(\"%d%m%y\")\n",
    "weights_df.to_excel(f\"eff_weights_{today}.xlsx\", index=False)\n",
    "metrics_df.to_excel(f\"eff_metrics_{today}.xlsx\", index=False)\n",
    "print(\"Export complete.\")\n"
   ]
  }
 ],
 "metadata": {},
 "nbformat": 4,
 "nbformat_minor": 5
}
